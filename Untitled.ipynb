{
 "cells": [
  {
   "cell_type": "code",
   "execution_count": 1,
   "id": "0f362535-7695-473a-b8f0-9323a4f72d63",
   "metadata": {},
   "outputs": [
    {
     "name": "stdout",
     "output_type": "stream",
     "text": [
      "vérifier si le push se fait bien\n"
     ]
    }
   ],
   "source": [
    "print(\"vérifier si le push se fait bien\")"
   ]
  }
 ],
 "metadata": {
  "kernelspec": {
   "display_name": "Python 3.9.12 ('quizz_plante')",
   "language": "python",
   "name": "python3"
  },
  "language_info": {
   "codemirror_mode": {
    "name": "ipython",
    "version": 3
   },
   "file_extension": ".py",
   "mimetype": "text/x-python",
   "name": "python",
   "nbconvert_exporter": "python",
   "pygments_lexer": "ipython3",
   "version": "3.9.12"
  },
  "vscode": {
   "interpreter": {
    "hash": "4234ecfc44a2b118ac949a9ed638d783e5744d50b47988536416ec74b65f9cc5"
   }
  }
 },
 "nbformat": 4,
 "nbformat_minor": 5
}
